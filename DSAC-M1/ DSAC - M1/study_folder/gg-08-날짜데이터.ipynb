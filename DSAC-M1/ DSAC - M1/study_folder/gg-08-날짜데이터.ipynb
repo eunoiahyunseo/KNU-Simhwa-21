{
 "cells": [
  {
   "cell_type": "code",
   "execution_count": 25,
   "metadata": {},
   "outputs": [
    {
     "name": "stdout",
     "output_type": "stream",
     "text": [
      "2021-01-07 11:34:58.739034\n"
     ]
    }
   ],
   "source": [
    "from datetime import datetime\n",
    "\n",
    "now = datetime.now()\n",
    "print (now)"
   ]
  },
  {
   "cell_type": "code",
   "execution_count": 26,
   "metadata": {},
   "outputs": [
    {
     "name": "stdout",
     "output_type": "stream",
     "text": [
      "2021\n",
      "1\n",
      "7\n",
      "11\n",
      "34\n",
      "58\n"
     ]
    }
   ],
   "source": [
    "# 03 정보 추출하기\n",
    "\n",
    "now = datetime.now()\n",
    "print (now.year)\n",
    "print (now.month)\n",
    "print (now.day)\n",
    "print(now.hour)\n",
    "print(now.minute)\n",
    "print(now.second)"
   ]
  },
  {
   "cell_type": "code",
   "execution_count": 27,
   "metadata": {},
   "outputs": [
    {
     "name": "stdout",
     "output_type": "stream",
     "text": [
      "1/7/2021\n"
     ]
    }
   ],
   "source": [
    "# 04 날짜 정보 다듬기\n",
    "\n",
    "now = datetime.now()\n",
    "print (str(now.month) + \"/\" + str(now.day) + \"/\" + str(now.year))"
   ]
  },
  {
   "cell_type": "code",
   "execution_count": 28,
   "metadata": {},
   "outputs": [
    {
     "name": "stdout",
     "output_type": "stream",
     "text": [
      "11:34:58\n"
     ]
    }
   ],
   "source": [
    "# 05 시간 정보 다듬기\n",
    "\n",
    "now = datetime.now()\n",
    "print (str(now.hour) + \":\" + str(now.minute) + \":\" + str(now.second))\n",
    "#print (str(now.month) + \"/\" + str(now.day) + \"/\" + str(now.year))"
   ]
  },
  {
   "cell_type": "markdown",
   "metadata": {},
   "source": [
    "# 영업일 캘린더 (KRX)\n",
    "\n",
    "* 한국거래소 홈페이지에서 휴장일을 xls로 받을 수 있다\n",
    "* 휴장일 데이터로 부터 개장일(market days)를 생성\n",
    "* 해외 시장(CME, EUREX)등은  pandas-market-calendars를 활용\n",
    "\n",
    "<img width=\"320\" src=\"http://i.imgur.com/ClIQff8.jpg\" >\n",
    "\n",
    "#### 2017 http://fb.com/financedata , http://financedata.github.io\n",
    "<!-- TEASER_END -->"
   ]
  },
  {
   "cell_type": "markdown",
   "metadata": {},
   "source": [
    "# 한국거래소 홈페이지 휴장일 조회\n",
    "한국거래소 홈페이지 http://marketdata.krx.co.kr 에서 아래 메뉴에서 휴장일을 조회할 수 있다\n",
    "\n",
    "#### 시장정보 > 시장동향 > 공시 > 증시일정 > 휴장일\n",
    "\n",
    "링크는 아래와 같다\n",
    "\n",
    "http://marketdata.krx.co.kr/contents/MKD/01/0110/01100305/MKD01100305.jsp\n",
    "\n",
    "<img width=\"80%\" src=\"http://i.imgur.com/xUGXh8f.png\" >"
   ]
  },
  {
   "cell_type": "markdown",
   "metadata": {},
   "source": [
    "한국거래소, CME, EUREX 캘린더를 년도별로 제공하고 있으며, '다운로드'를 누르면 엑셀(data.xls)파일로 다운로드 할 수 있다.\n",
    "\n",
    "다운로드한 파일(data.xls)을 아래와 같이 공유파일 링크로 만들었다.\n",
    "\n",
    "- 데이터 https://goo.gl/JGse1n"
   ]
  },
  {
   "cell_type": "code",
   "execution_count": 1,
   "metadata": {},
   "outputs": [
    {
     "data": {
      "text/html": "<div>\n<style scoped>\n    .dataframe tbody tr th:only-of-type {\n        vertical-align: middle;\n    }\n\n    .dataframe tbody tr th {\n        vertical-align: top;\n    }\n\n    .dataframe thead th {\n        text-align: right;\n    }\n</style>\n<table border=\"1\" class=\"dataframe\">\n  <thead>\n    <tr style=\"text-align: right;\">\n      <th></th>\n      <th>일자 및 요일</th>\n      <th>요일구분</th>\n      <th>비고</th>\n    </tr>\n  </thead>\n  <tbody>\n    <tr>\n      <th>0</th>\n      <td>2019-01-01</td>\n      <td>화요일</td>\n      <td>신정</td>\n    </tr>\n    <tr>\n      <th>1</th>\n      <td>2019-02-04</td>\n      <td>월요일</td>\n      <td>설날</td>\n    </tr>\n    <tr>\n      <th>2</th>\n      <td>2019-02-05</td>\n      <td>화요일</td>\n      <td>설날</td>\n    </tr>\n    <tr>\n      <th>3</th>\n      <td>2019-02-06</td>\n      <td>수요일</td>\n      <td>설날</td>\n    </tr>\n    <tr>\n      <th>4</th>\n      <td>2019-03-01</td>\n      <td>금요일</td>\n      <td>삼일절</td>\n    </tr>\n    <tr>\n      <th>5</th>\n      <td>2019-05-01</td>\n      <td>수요일</td>\n      <td>근로자의날</td>\n    </tr>\n    <tr>\n      <th>6</th>\n      <td>2019-05-06</td>\n      <td>월요일</td>\n      <td>어린이날(대체휴일)</td>\n    </tr>\n    <tr>\n      <th>7</th>\n      <td>2019-06-06</td>\n      <td>목요일</td>\n      <td>현충일</td>\n    </tr>\n    <tr>\n      <th>8</th>\n      <td>2019-08-15</td>\n      <td>목요일</td>\n      <td>광복절</td>\n    </tr>\n    <tr>\n      <th>9</th>\n      <td>2019-09-12</td>\n      <td>목요일</td>\n      <td>추석</td>\n    </tr>\n    <tr>\n      <th>10</th>\n      <td>2019-09-13</td>\n      <td>금요일</td>\n      <td>추석</td>\n    </tr>\n    <tr>\n      <th>11</th>\n      <td>2019-10-03</td>\n      <td>목요일</td>\n      <td>개천절</td>\n    </tr>\n    <tr>\n      <th>12</th>\n      <td>2019-10-09</td>\n      <td>수요일</td>\n      <td>한글날</td>\n    </tr>\n    <tr>\n      <th>13</th>\n      <td>2019-12-25</td>\n      <td>수요일</td>\n      <td>성탄절</td>\n    </tr>\n    <tr>\n      <th>14</th>\n      <td>2019-12-31</td>\n      <td>화요일</td>\n      <td>연말휴장일</td>\n    </tr>\n  </tbody>\n</table>\n</div>",
      "text/plain": "       일자 및 요일    요일구분          비고\n0   2019-01-01  화요일             신정\n1   2019-02-04  월요일             설날\n2   2019-02-05  화요일             설날\n3   2019-02-06  수요일             설날\n4   2019-03-01  금요일            삼일절\n5   2019-05-01  수요일          근로자의날\n6   2019-05-06  월요일     어린이날(대체휴일)\n7   2019-06-06  목요일            현충일\n8   2019-08-15  목요일            광복절\n9   2019-09-12  목요일             추석\n10  2019-09-13  금요일             추석\n11  2019-10-03  목요일            개천절\n12  2019-10-09  수요일            한글날\n13  2019-12-25  수요일            성탄절\n14  2019-12-31  화요일          연말휴장일"
     },
     "execution_count": 1,
     "metadata": {},
     "output_type": "execute_result"
    }
   ],
   "source": [
    "import pandas as pd\n",
    "\n",
    "df_hdays = pd.read_excel('https://goo.gl/JGse1n')\n",
    "df_hdays"
   ]
  },
  {
   "cell_type": "markdown",
   "metadata": {},
   "source": [
    "날짜 데이터에 요일이 함께 들어있어 가공이 필요하다.\n"
   ]
  },
  {
   "cell_type": "code",
   "execution_count": 30,
   "metadata": {},
   "outputs": [
    {
     "data": {
      "text/plain": [
       "0     2019-01-01\n",
       "1     2019-02-04\n",
       "2     2019-02-05\n",
       "3     2019-02-06\n",
       "4     2019-03-01\n",
       "5     2019-05-01\n",
       "6     2019-05-06\n",
       "7     2019-06-06\n",
       "8     2019-08-15\n",
       "9     2019-09-12\n",
       "10    2019-09-13\n",
       "11    2019-10-03\n",
       "12    2019-10-09\n",
       "13    2019-12-25\n",
       "14    2019-12-31\n",
       "Name: 일자 및 요일, dtype: object"
      ]
     },
     "execution_count": 30,
     "metadata": {},
     "output_type": "execute_result"
    }
   ],
   "source": [
    "# hdays = df_hdays['일자 및 요일'].str.extract('(\\d{4}-\\d{2}-\\d{2})', expand=False)\n",
    "hdays = df_hdays['일자 및 요일']\n",
    "hdays"
   ]
  },
  {
   "cell_type": "code",
   "execution_count": 31,
   "metadata": {},
   "outputs": [
    {
     "name": "stdout",
     "output_type": "stream",
     "text": [
      "<class 'pandas.core.series.Series'>\n"
     ]
    },
    {
     "data": {
      "text/plain": [
       "0    2019-01-01\n",
       "1    2019-02-04\n",
       "2    2019-02-05\n",
       "3    2019-02-06\n",
       "4    2019-03-01\n",
       "5    2019-05-01\n",
       "6    2019-05-06\n",
       "7    2019-06-06\n",
       "8    2019-08-15\n",
       "9    2019-09-12\n",
       "10   2019-09-13\n",
       "11   2019-10-03\n",
       "12   2019-10-09\n",
       "13   2019-12-25\n",
       "14   2019-12-31\n",
       "Name: 날짜, dtype: datetime64[ns]"
      ]
     },
     "execution_count": 31,
     "metadata": {},
     "output_type": "execute_result"
    }
   ],
   "source": [
    "hdays = pd.to_datetime(hdays)\n",
    "hdays.name = '날짜'\n",
    "print(type(hdays))\n",
    "hdays"
   ]
  },
  {
   "cell_type": "markdown",
   "metadata": {},
   "source": [
    "# 개장일(market day)"
   ]
  },
  {
   "cell_type": "markdown",
   "metadata": {},
   "source": [
    "2019년 중에 개장일(market day)목록을 만들어 보자. 우선 pandas.date_range() 함수를 사용하여 1월 1일~ 12월 31까지 날짜를 생성한다. (365일)"
   ]
  },
  {
   "cell_type": "code",
   "execution_count": 32,
   "metadata": {},
   "outputs": [
    {
     "data": {
      "text/plain": [
       "DatetimeIndex(['2019-01-01', '2019-01-02', '2019-01-03', '2019-01-04',\n",
       "               '2019-01-05', '2019-01-06', '2019-01-07', '2019-01-08',\n",
       "               '2019-01-09', '2019-01-10',\n",
       "               ...\n",
       "               '2019-12-22', '2019-12-23', '2019-12-24', '2019-12-25',\n",
       "               '2019-12-26', '2019-12-27', '2019-12-28', '2019-12-29',\n",
       "               '2019-12-30', '2019-12-31'],\n",
       "              dtype='datetime64[ns]', length=365, freq='D')"
      ]
     },
     "execution_count": 32,
     "metadata": {},
     "output_type": "execute_result"
    }
   ],
   "source": [
    "mdays = pd.date_range('2019-01-01', '2019-12-31')\n",
    "mdays"
   ]
  },
  {
   "cell_type": "markdown",
   "metadata": {},
   "source": [
    "이때 freq 를 'B'로 지정(business day)하면, 주말(토,일)은 제외된다. (260일)\n",
    "\n",
    "날짜 생성에 대해서는 다음 URL을 참고 하자. \n",
    "https://pandas.pydata.org/pandas-docs/stable/timeseries.html\n",
    "\n",
    "특히, 간격 별칭(Offset Aliases)에 대해서는 아래 표에 정리되어 있다.\n",
    "\n",
    "https://pandas.pydata.org/pandas-docs/stable/timeseries.html#offset-aliases"
   ]
  },
  {
   "cell_type": "code",
   "execution_count": 33,
   "metadata": {},
   "outputs": [
    {
     "data": {
      "text/plain": [
       "DatetimeIndex(['2019-01-01', '2019-01-02', '2019-01-03', '2019-01-04',\n",
       "               '2019-01-07', '2019-01-08', '2019-01-09', '2019-01-10',\n",
       "               '2019-01-11', '2019-01-14',\n",
       "               ...\n",
       "               '2019-12-18', '2019-12-19', '2019-12-20', '2019-12-23',\n",
       "               '2019-12-24', '2019-12-25', '2019-12-26', '2019-12-27',\n",
       "               '2019-12-30', '2019-12-31'],\n",
       "              dtype='datetime64[ns]', length=261, freq='B')"
      ]
     },
     "execution_count": 33,
     "metadata": {},
     "output_type": "execute_result"
    }
   ],
   "source": [
    "mdays = pd.date_range('2019-01-01', '2019-12-31', freq='B')\n",
    "mdays"
   ]
  },
  {
   "cell_type": "markdown",
   "metadata": {},
   "source": [
    "여기서 휴일을 제외(df.drop)하면, 모든 영업일(market day)가 만들어진다. (244일)"
   ]
  },
  {
   "cell_type": "code",
   "execution_count": 34,
   "metadata": {},
   "outputs": [
    {
     "data": {
      "text/plain": [
       "DatetimeIndex(['2019-01-02', '2019-01-03', '2019-01-04', '2019-01-07',\n",
       "               '2019-01-08', '2019-01-09', '2019-01-10', '2019-01-11',\n",
       "               '2019-01-14', '2019-01-15',\n",
       "               ...\n",
       "               '2019-12-16', '2019-12-17', '2019-12-18', '2019-12-19',\n",
       "               '2019-12-20', '2019-12-23', '2019-12-24', '2019-12-26',\n",
       "               '2019-12-27', '2019-12-30'],\n",
       "              dtype='datetime64[ns]', length=246, freq=None)"
      ]
     },
     "execution_count": 34,
     "metadata": {},
     "output_type": "execute_result"
    }
   ],
   "source": [
    "mdays = mdays.drop(hdays)\n",
    "mdays"
   ]
  },
  {
   "cell_type": "markdown",
   "metadata": {},
   "source": [
    "# DataFrame에 휴장일 적용하기"
   ]
  },
  {
   "cell_type": "markdown",
   "metadata": {},
   "source": [
    "DataFrame에서 개장일(market day)만을 추출해해야 하는 경우를 살펴보자.\n",
    "\n",
    "다음과 같은 데이터를 가정해 보자. (5월 1일~5월 30일, 1~30까지 values로 할당)"
   ]
  },
  {
   "cell_type": "code",
   "execution_count": 3,
   "metadata": {},
   "outputs": [
    {
     "data": {
      "text/plain": "{'values': range(1, 32)}"
     },
     "execution_count": 3,
     "metadata": {},
     "output_type": "execute_result"
    }
   ],
   "source": [
    "data = {'values': range(1,32)}\n",
    "data"
   ]
  },
  {
   "cell_type": "code",
   "execution_count": 36,
   "metadata": {
    "scrolled": true
   },
   "outputs": [
    {
     "data": {
      "text/html": [
       "<div>\n",
       "<style scoped>\n",
       "    .dataframe tbody tr th:only-of-type {\n",
       "        vertical-align: middle;\n",
       "    }\n",
       "\n",
       "    .dataframe tbody tr th {\n",
       "        vertical-align: top;\n",
       "    }\n",
       "\n",
       "    .dataframe thead th {\n",
       "        text-align: right;\n",
       "    }\n",
       "</style>\n",
       "<table border=\"1\" class=\"dataframe\">\n",
       "  <thead>\n",
       "    <tr style=\"text-align: right;\">\n",
       "      <th></th>\n",
       "      <th>values</th>\n",
       "    </tr>\n",
       "  </thead>\n",
       "  <tbody>\n",
       "    <tr>\n",
       "      <th>2019-05-01</th>\n",
       "      <td>1</td>\n",
       "    </tr>\n",
       "    <tr>\n",
       "      <th>2019-05-02</th>\n",
       "      <td>2</td>\n",
       "    </tr>\n",
       "    <tr>\n",
       "      <th>2019-05-03</th>\n",
       "      <td>3</td>\n",
       "    </tr>\n",
       "    <tr>\n",
       "      <th>2019-05-04</th>\n",
       "      <td>4</td>\n",
       "    </tr>\n",
       "    <tr>\n",
       "      <th>2019-05-05</th>\n",
       "      <td>5</td>\n",
       "    </tr>\n",
       "    <tr>\n",
       "      <th>2019-05-06</th>\n",
       "      <td>6</td>\n",
       "    </tr>\n",
       "    <tr>\n",
       "      <th>2019-05-07</th>\n",
       "      <td>7</td>\n",
       "    </tr>\n",
       "    <tr>\n",
       "      <th>2019-05-08</th>\n",
       "      <td>8</td>\n",
       "    </tr>\n",
       "    <tr>\n",
       "      <th>2019-05-09</th>\n",
       "      <td>9</td>\n",
       "    </tr>\n",
       "    <tr>\n",
       "      <th>2019-05-10</th>\n",
       "      <td>10</td>\n",
       "    </tr>\n",
       "  </tbody>\n",
       "</table>\n",
       "</div>"
      ],
      "text/plain": [
       "            values\n",
       "2019-05-01       1\n",
       "2019-05-02       2\n",
       "2019-05-03       3\n",
       "2019-05-04       4\n",
       "2019-05-05       5\n",
       "2019-05-06       6\n",
       "2019-05-07       7\n",
       "2019-05-08       8\n",
       "2019-05-09       9\n",
       "2019-05-10      10"
      ]
     },
     "execution_count": 36,
     "metadata": {},
     "output_type": "execute_result"
    }
   ],
   "source": [
    "df_sample = pd.DataFrame(data, index=pd.date_range('2019-05-01', '2019-05-31'))\n",
    "df_sample.head(10)"
   ]
  },
  {
   "cell_type": "markdown",
   "metadata": {},
   "source": [
    "위 데이터 중에서 개장일만 추출하고자 한다. DateTimeIndex를 가진 두 개의 DataFrame의 교집합을 구하는 간단한 방법으로 pd.merge()을 쓸 수 있다."
   ]
  },
  {
   "cell_type": "code",
   "execution_count": 37,
   "metadata": {},
   "outputs": [
    {
     "data": {
      "text/html": [
       "<div>\n",
       "<style scoped>\n",
       "    .dataframe tbody tr th:only-of-type {\n",
       "        vertical-align: middle;\n",
       "    }\n",
       "\n",
       "    .dataframe tbody tr th {\n",
       "        vertical-align: top;\n",
       "    }\n",
       "\n",
       "    .dataframe thead th {\n",
       "        text-align: right;\n",
       "    }\n",
       "</style>\n",
       "<table border=\"1\" class=\"dataframe\">\n",
       "  <thead>\n",
       "    <tr style=\"text-align: right;\">\n",
       "      <th></th>\n",
       "    </tr>\n",
       "  </thead>\n",
       "  <tbody>\n",
       "    <tr>\n",
       "      <th>2019-01-02</th>\n",
       "    </tr>\n",
       "    <tr>\n",
       "      <th>2019-01-03</th>\n",
       "    </tr>\n",
       "    <tr>\n",
       "      <th>2019-01-04</th>\n",
       "    </tr>\n",
       "    <tr>\n",
       "      <th>2019-01-07</th>\n",
       "    </tr>\n",
       "    <tr>\n",
       "      <th>2019-01-08</th>\n",
       "    </tr>\n",
       "  </tbody>\n",
       "</table>\n",
       "</div>"
      ],
      "text/plain": [
       "Empty DataFrame\n",
       "Columns: []\n",
       "Index: [2019-01-02 00:00:00, 2019-01-03 00:00:00, 2019-01-04 00:00:00, 2019-01-07 00:00:00, 2019-01-08 00:00:00]"
      ]
     },
     "execution_count": 37,
     "metadata": {},
     "output_type": "execute_result"
    }
   ],
   "source": [
    "# 개장일을 index로 갖는 DataFrame\n",
    "df_mdays = pd.DataFrame(index=mdays)\n",
    "df_mdays.head()"
   ]
  },
  {
   "cell_type": "code",
   "execution_count": 38,
   "metadata": {},
   "outputs": [
    {
     "data": {
      "text/html": [
       "<div>\n",
       "<style scoped>\n",
       "    .dataframe tbody tr th:only-of-type {\n",
       "        vertical-align: middle;\n",
       "    }\n",
       "\n",
       "    .dataframe tbody tr th {\n",
       "        vertical-align: top;\n",
       "    }\n",
       "\n",
       "    .dataframe thead th {\n",
       "        text-align: right;\n",
       "    }\n",
       "</style>\n",
       "<table border=\"1\" class=\"dataframe\">\n",
       "  <thead>\n",
       "    <tr style=\"text-align: right;\">\n",
       "      <th></th>\n",
       "      <th>values</th>\n",
       "    </tr>\n",
       "  </thead>\n",
       "  <tbody>\n",
       "    <tr>\n",
       "      <th>2019-05-02</th>\n",
       "      <td>2</td>\n",
       "    </tr>\n",
       "    <tr>\n",
       "      <th>2019-05-03</th>\n",
       "      <td>3</td>\n",
       "    </tr>\n",
       "    <tr>\n",
       "      <th>2019-05-07</th>\n",
       "      <td>7</td>\n",
       "    </tr>\n",
       "    <tr>\n",
       "      <th>2019-05-08</th>\n",
       "      <td>8</td>\n",
       "    </tr>\n",
       "    <tr>\n",
       "      <th>2019-05-09</th>\n",
       "      <td>9</td>\n",
       "    </tr>\n",
       "    <tr>\n",
       "      <th>2019-05-10</th>\n",
       "      <td>10</td>\n",
       "    </tr>\n",
       "    <tr>\n",
       "      <th>2019-05-13</th>\n",
       "      <td>13</td>\n",
       "    </tr>\n",
       "    <tr>\n",
       "      <th>2019-05-14</th>\n",
       "      <td>14</td>\n",
       "    </tr>\n",
       "    <tr>\n",
       "      <th>2019-05-15</th>\n",
       "      <td>15</td>\n",
       "    </tr>\n",
       "    <tr>\n",
       "      <th>2019-05-16</th>\n",
       "      <td>16</td>\n",
       "    </tr>\n",
       "    <tr>\n",
       "      <th>2019-05-17</th>\n",
       "      <td>17</td>\n",
       "    </tr>\n",
       "    <tr>\n",
       "      <th>2019-05-20</th>\n",
       "      <td>20</td>\n",
       "    </tr>\n",
       "    <tr>\n",
       "      <th>2019-05-21</th>\n",
       "      <td>21</td>\n",
       "    </tr>\n",
       "    <tr>\n",
       "      <th>2019-05-22</th>\n",
       "      <td>22</td>\n",
       "    </tr>\n",
       "    <tr>\n",
       "      <th>2019-05-23</th>\n",
       "      <td>23</td>\n",
       "    </tr>\n",
       "    <tr>\n",
       "      <th>2019-05-24</th>\n",
       "      <td>24</td>\n",
       "    </tr>\n",
       "    <tr>\n",
       "      <th>2019-05-27</th>\n",
       "      <td>27</td>\n",
       "    </tr>\n",
       "    <tr>\n",
       "      <th>2019-05-28</th>\n",
       "      <td>28</td>\n",
       "    </tr>\n",
       "    <tr>\n",
       "      <th>2019-05-29</th>\n",
       "      <td>29</td>\n",
       "    </tr>\n",
       "    <tr>\n",
       "      <th>2019-05-30</th>\n",
       "      <td>30</td>\n",
       "    </tr>\n",
       "  </tbody>\n",
       "</table>\n",
       "</div>"
      ],
      "text/plain": [
       "            values\n",
       "2019-05-02       2\n",
       "2019-05-03       3\n",
       "2019-05-07       7\n",
       "2019-05-08       8\n",
       "2019-05-09       9\n",
       "2019-05-10      10\n",
       "2019-05-13      13\n",
       "2019-05-14      14\n",
       "2019-05-15      15\n",
       "2019-05-16      16\n",
       "2019-05-17      17\n",
       "2019-05-20      20\n",
       "2019-05-21      21\n",
       "2019-05-22      22\n",
       "2019-05-23      23\n",
       "2019-05-24      24\n",
       "2019-05-27      27\n",
       "2019-05-28      28\n",
       "2019-05-29      29\n",
       "2019-05-30      30"
      ]
     },
     "execution_count": 38,
     "metadata": {},
     "output_type": "execute_result"
    }
   ],
   "source": [
    "# 두 DataFrame (df_sample, df_mdays)의 인덱스를 기준으로 합친다(merge)\n",
    "df = pd.merge(df_sample, df_mdays, right_index=True, left_index=True)\n",
    "df.head(20)"
   ]
  },
  {
   "cell_type": "markdown",
   "metadata": {},
   "source": [
    "이 경우, 두 인덱스의 공동부분(intersection)만 남으므로 개장일만 남게 된다."
   ]
  },
  {
   "cell_type": "markdown",
   "metadata": {},
   "source": [
    "# CME, EUREX 휴장일\n",
    "\n",
    "영업일 캘린더 메뉴에서 한국거래소(KRX)외에 CME, EUREX와 캘린더도 제공하며, 엑셀로 다운로드 한 2017년 데이터는 다음과 같다.\n",
    "\n",
    "* hdays-2017-CME.xls ( https://goo.gl/cvnhy2 ) \n",
    "* hdays-2017-EUREX.xls ( https://goo.gl/s2PgBx ) "
   ]
  },
  {
   "cell_type": "code",
   "execution_count": 39,
   "metadata": {},
   "outputs": [
    {
     "data": {
      "text/html": [
       "<div>\n",
       "<style scoped>\n",
       "    .dataframe tbody tr th:only-of-type {\n",
       "        vertical-align: middle;\n",
       "    }\n",
       "\n",
       "    .dataframe tbody tr th {\n",
       "        vertical-align: top;\n",
       "    }\n",
       "\n",
       "    .dataframe thead th {\n",
       "        text-align: right;\n",
       "    }\n",
       "</style>\n",
       "<table border=\"1\" class=\"dataframe\">\n",
       "  <thead>\n",
       "    <tr style=\"text-align: right;\">\n",
       "      <th></th>\n",
       "      <th>구분</th>\n",
       "      <th>일자</th>\n",
       "      <th>요일</th>\n",
       "      <th>시장</th>\n",
       "      <th>비고</th>\n",
       "    </tr>\n",
       "  </thead>\n",
       "  <tbody>\n",
       "    <tr>\n",
       "      <th>0</th>\n",
       "      <td>휴장</td>\n",
       "      <td>2017/01/02</td>\n",
       "      <td>월</td>\n",
       "      <td>CME</td>\n",
       "      <td>New Year' Day</td>\n",
       "    </tr>\n",
       "    <tr>\n",
       "      <th>1</th>\n",
       "      <td>휴장</td>\n",
       "      <td>2017/04/14</td>\n",
       "      <td>금</td>\n",
       "      <td>CME</td>\n",
       "      <td>Good Friday</td>\n",
       "    </tr>\n",
       "    <tr>\n",
       "      <th>2</th>\n",
       "      <td>단축종료(03:15)</td>\n",
       "      <td>2017/11/24</td>\n",
       "      <td>금</td>\n",
       "      <td>CME</td>\n",
       "      <td>추수감사절 다음날</td>\n",
       "    </tr>\n",
       "    <tr>\n",
       "      <th>3</th>\n",
       "      <td>휴장</td>\n",
       "      <td>2017/12/25</td>\n",
       "      <td>월</td>\n",
       "      <td>CME</td>\n",
       "      <td>Christmas Day</td>\n",
       "    </tr>\n",
       "  </tbody>\n",
       "</table>\n",
       "</div>"
      ],
      "text/plain": [
       "            구분          일자 요일   시장             비고\n",
       "0           휴장  2017/01/02  월  CME  New Year' Day\n",
       "1           휴장  2017/04/14  금  CME    Good Friday\n",
       "2  단축종료(03:15)  2017/11/24  금  CME      추수감사절 다음날\n",
       "3           휴장  2017/12/25  월  CME  Christmas Day"
      ]
     },
     "execution_count": 39,
     "metadata": {},
     "output_type": "execute_result"
    }
   ],
   "source": [
    "pd.read_excel('https://goo.gl/cvnhy2')"
   ]
  },
  {
   "cell_type": "code",
   "execution_count": 40,
   "metadata": {},
   "outputs": [
    {
     "data": {
      "text/html": [
       "<div>\n",
       "<style scoped>\n",
       "    .dataframe tbody tr th:only-of-type {\n",
       "        vertical-align: middle;\n",
       "    }\n",
       "\n",
       "    .dataframe tbody tr th {\n",
       "        vertical-align: top;\n",
       "    }\n",
       "\n",
       "    .dataframe thead th {\n",
       "        text-align: right;\n",
       "    }\n",
       "</style>\n",
       "<table border=\"1\" class=\"dataframe\">\n",
       "  <thead>\n",
       "    <tr style=\"text-align: right;\">\n",
       "      <th></th>\n",
       "      <th>구분</th>\n",
       "      <th>일자</th>\n",
       "      <th>요일</th>\n",
       "      <th>시장</th>\n",
       "      <th>비고</th>\n",
       "    </tr>\n",
       "  </thead>\n",
       "  <tbody>\n",
       "    <tr>\n",
       "      <th>0</th>\n",
       "      <td>휴장</td>\n",
       "      <td>2017/04/14</td>\n",
       "      <td>금</td>\n",
       "      <td>EUREX</td>\n",
       "      <td>Good Friday</td>\n",
       "    </tr>\n",
       "    <tr>\n",
       "      <th>1</th>\n",
       "      <td>휴장</td>\n",
       "      <td>2017/04/17</td>\n",
       "      <td>월</td>\n",
       "      <td>EUREX</td>\n",
       "      <td>Easter Monday</td>\n",
       "    </tr>\n",
       "    <tr>\n",
       "      <th>2</th>\n",
       "      <td>휴장</td>\n",
       "      <td>2017/05/01</td>\n",
       "      <td>월</td>\n",
       "      <td>EUREX</td>\n",
       "      <td>Labour Day</td>\n",
       "    </tr>\n",
       "    <tr>\n",
       "      <th>3</th>\n",
       "      <td>휴장</td>\n",
       "      <td>2017/12/25</td>\n",
       "      <td>월</td>\n",
       "      <td>EUREX</td>\n",
       "      <td>Christmas Day</td>\n",
       "    </tr>\n",
       "    <tr>\n",
       "      <th>4</th>\n",
       "      <td>휴장</td>\n",
       "      <td>2017/12/26</td>\n",
       "      <td>화</td>\n",
       "      <td>EUREX</td>\n",
       "      <td>Boxing Day</td>\n",
       "    </tr>\n",
       "  </tbody>\n",
       "</table>\n",
       "</div>"
      ],
      "text/plain": [
       "   구분          일자 요일     시장             비고\n",
       "0  휴장  2017/04/14  금  EUREX    Good Friday\n",
       "1  휴장  2017/04/17  월  EUREX  Easter Monday\n",
       "2  휴장  2017/05/01  월  EUREX     Labour Day\n",
       "3  휴장  2017/12/25  월  EUREX  Christmas Day\n",
       "4  휴장  2017/12/26  화  EUREX     Boxing Day"
      ]
     },
     "execution_count": 40,
     "metadata": {},
     "output_type": "execute_result"
    }
   ],
   "source": [
    "pd.read_excel('https://goo.gl/s2PgBx')"
   ]
  },
  {
   "cell_type": "markdown",
   "metadata": {},
   "source": [
    "# pandas-market-calendars"
   ]
  },
  {
   "cell_type": "markdown",
   "metadata": {},
   "source": [
    "해외 시장의 개장일(market day)을 관리하기 위해 위 엑셀 데이터를 사용하기 보다는 pandas-market-calendars 라이브러를 권한다.\n",
    "\n",
    "http://pandas-market-calendars.readthedocs.io\n",
    "\n",
    "NYSE, CME, EUREX 등 시장에 대한 개장일과 개장 시간등을 관리할 수 있다."
   ]
  },
  {
   "cell_type": "markdown",
   "metadata": {},
   "source": [
    "#### 2017 https://fb.com/financedata"
   ]
  },
  {
   "cell_type": "code",
   "execution_count": 42,
   "metadata": {
    "scrolled": true
   },
   "outputs": [
    {
     "data": {
      "text/html": [
       "<div>\n",
       "<style scoped>\n",
       "    .dataframe tbody tr th:only-of-type {\n",
       "        vertical-align: middle;\n",
       "    }\n",
       "\n",
       "    .dataframe tbody tr th {\n",
       "        vertical-align: top;\n",
       "    }\n",
       "\n",
       "    .dataframe thead th {\n",
       "        text-align: right;\n",
       "    }\n",
       "</style>\n",
       "<table border=\"1\" class=\"dataframe\">\n",
       "  <thead>\n",
       "    <tr style=\"text-align: right;\">\n",
       "      <th></th>\n",
       "    </tr>\n",
       "  </thead>\n",
       "  <tbody>\n",
       "    <tr>\n",
       "      <th>2017-01-02</th>\n",
       "    </tr>\n",
       "    <tr>\n",
       "      <th>2017-01-03</th>\n",
       "    </tr>\n",
       "    <tr>\n",
       "      <th>2017-01-04</th>\n",
       "    </tr>\n",
       "    <tr>\n",
       "      <th>2017-01-05</th>\n",
       "    </tr>\n",
       "    <tr>\n",
       "      <th>2017-01-06</th>\n",
       "    </tr>\n",
       "    <tr>\n",
       "      <th>2017-01-09</th>\n",
       "    </tr>\n",
       "    <tr>\n",
       "      <th>2017-01-10</th>\n",
       "    </tr>\n",
       "    <tr>\n",
       "      <th>2017-01-11</th>\n",
       "    </tr>\n",
       "    <tr>\n",
       "      <th>2017-01-12</th>\n",
       "    </tr>\n",
       "    <tr>\n",
       "      <th>2017-01-13</th>\n",
       "    </tr>\n",
       "  </tbody>\n",
       "</table>\n",
       "</div>"
      ],
      "text/plain": [
       "Empty DataFrame\n",
       "Columns: []\n",
       "Index: [2017-01-02 00:00:00, 2017-01-03 00:00:00, 2017-01-04 00:00:00, 2017-01-05 00:00:00, 2017-01-06 00:00:00, 2017-01-09 00:00:00, 2017-01-10 00:00:00, 2017-01-11 00:00:00, 2017-01-12 00:00:00, 2017-01-13 00:00:00]"
      ]
     },
     "execution_count": 42,
     "metadata": {},
     "output_type": "execute_result"
    }
   ],
   "source": [
    "mdays = pd.date_range('2017-01-01', '2017-12-31', freq='B')\n",
    "\n",
    "df_sample = pd.DataFrame(index=mdays)\n",
    "df_sample.head(10)\n",
    "\n"
   ]
  },
  {
   "cell_type": "code",
   "execution_count": 4,
   "metadata": {},
   "outputs": [
    {
     "data": {
      "text/html": "<div>\n<style scoped>\n    .dataframe tbody tr th:only-of-type {\n        vertical-align: middle;\n    }\n\n    .dataframe tbody tr th {\n        vertical-align: top;\n    }\n\n    .dataframe thead th {\n        text-align: right;\n    }\n</style>\n<table border=\"1\" class=\"dataframe\">\n  <thead>\n    <tr style=\"text-align: right;\">\n      <th></th>\n    </tr>\n    <tr>\n      <th>일자</th>\n    </tr>\n  </thead>\n  <tbody>\n    <tr>\n      <th>2017-01-02</th>\n    </tr>\n    <tr>\n      <th>2017-04-14</th>\n    </tr>\n    <tr>\n      <th>2017-11-24</th>\n    </tr>\n    <tr>\n      <th>2017-12-25</th>\n    </tr>\n  </tbody>\n</table>\n</div>",
      "text/plain": "Empty DataFrame\nColumns: []\nIndex: [2017-01-02 00:00:00, 2017-04-14 00:00:00, 2017-11-24 00:00:00, 2017-12-25 00:00:00]"
     },
     "execution_count": 4,
     "metadata": {},
     "output_type": "execute_result"
    }
   ],
   "source": [
    "# 2017년 휴장일\n",
    "data1 = pd.read_excel('https://goo.gl/cvnhy2')\n",
    "\n",
    "hdays = data1['일자']\n",
    "\n",
    "hdays = pd.to_datetime(hdays)\n",
    "\n",
    "hdays.name = '일자'\n",
    "\n",
    "df_mdays = pd.DataFrame(index=hdays)\n",
    "df_mdays.head()\n"
   ]
  },
  {
   "cell_type": "code",
   "execution_count": 5,
   "metadata": {},
   "outputs": [
    {
     "data": {
      "text/plain": "5"
     },
     "execution_count": 5,
     "metadata": {},
     "output_type": "execute_result"
    }
   ],
   "source": [
    "import random\n",
    "random.randint(1, 10)"
   ]
  },
  {
   "cell_type": "code",
   "execution_count": 7,
   "metadata": {},
   "outputs": [
    {
     "data": {
      "text/plain": "array([  0.37936326,  -0.50585691,  -0.54229559,   0.78754604,\n         1.07835755,   0.80547303,   1.30882329,  -1.60475444,\n        -1.2711072 ,  -2.09717324,  -3.73887823,  -4.46145023,\n        -3.22199227,  -3.5533198 ,  -2.61551787,  -3.99349774,\n        -4.14743794,  -3.24590735,  -3.59322488,  -3.25719294,\n        -3.16218636,  -3.69730342,  -3.57109514,  -1.72677277,\n        -1.31740739,  -2.01839691,  -2.16716755,  -2.94746191,\n        -3.24994746,  -3.96684987,  -3.25394017,  -3.00065486,\n        -1.7817621 ,  -3.00174937,  -3.5690225 ,  -3.76690231,\n        -4.09234865,  -4.79500264,  -6.23129573,  -5.35580506,\n        -4.82971767,  -3.62094382,  -3.71251402,  -5.72831941,\n        -6.0525061 ,  -5.15757564,  -6.183176  ,  -5.3452256 ,\n        -4.95531973,  -4.68773547,  -3.07941811,  -3.00943328,\n        -3.33473088,  -4.70010021,  -4.95267835,  -4.91543449,\n        -5.06607534,  -6.01284418,  -6.01793429,  -7.87360445,\n        -8.46359582,  -7.80565089,  -7.91784684,  -8.69210829,\n       -10.02309837,  -9.918324  , -12.0634345 , -10.95836858,\n       -10.20348315,  -9.88544214,  -8.95212154,  -8.00689838,\n        -6.21964286,  -7.3798476 ,  -5.80650336,  -5.52789531,\n        -4.6637037 ,  -5.01439241,  -6.0828115 ,  -5.64016328,\n        -5.24787639,  -7.64165663,  -7.38576494,  -8.50545304,\n        -9.18269668,  -8.95651315,  -7.1602001 ,  -7.40319863,\n        -7.89546523,  -6.9727528 ,  -8.62851349,  -8.36626995,\n        -8.06909932,  -8.60723877,  -9.14930249, -10.35669608,\n       -10.71494   , -10.37818188, -10.91652406,  -9.84256605])"
     },
     "execution_count": 7,
     "metadata": {},
     "output_type": "execute_result"
    }
   ],
   "source": [
    "import numpy as np\n",
    "a = np.random.randn(100).cumsum()\n",
    "a"
   ]
  },
  {
   "cell_type": "code",
   "execution_count": 8,
   "metadata": {},
   "outputs": [
    {
     "name": "stdout",
     "output_type": "stream",
     "text": [
      "4000\n"
     ]
    }
   ],
   "source": [
    "count = 0\n",
    "for i in range(10000):\n",
    "    for j in str(i):\n",
    "        if j == '8':\n",
    "            count += 1\n",
    "            \n",
    "print(count)"
   ]
  },
  {
   "cell_type": "code",
   "execution_count": null,
   "metadata": {},
   "outputs": [],
   "source": []
  }
 ],
 "metadata": {
  "kernelspec": {
   "display_name": "Python 3",
   "language": "python",
   "name": "python3"
  },
  "language_info": {
   "codemirror_mode": {
    "name": "ipython",
    "version": 3
   },
   "file_extension": ".py",
   "mimetype": "text/x-python",
   "name": "python",
   "nbconvert_exporter": "python",
   "pygments_lexer": "ipython3",
   "version": "3.8.5"
  },
  "nikola": {
   "category": "dev",
   "date": "2017-07-16 15:45:16 UTC+09:00",
   "description": "휴장일 데이터로 부터 개장일(market days)를 생성",
   "link": "",
   "slug": "pandas-market-days-krx",
   "tags": "python, market days, krx",
   "title": "영업일과 휴일 - 한국거래소",
   "type": "text"
  }
 },
 "nbformat": 4,
 "nbformat_minor": 1
}