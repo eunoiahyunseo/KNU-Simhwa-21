{
 "cells": [
  {
   "cell_type": "code",
   "execution_count": 1,
   "id": "418ff985",
   "metadata": {},
   "outputs": [
    {
     "data": {
      "text/plain": [
       "1"
      ]
     },
     "execution_count": 1,
     "metadata": {},
     "output_type": "execute_result"
    }
   ],
   "source": [
    "List<Integer> list1 = new ArrayList<>();\n",
    "list1.add(1);\n",
    "list1.get(0);"
   ]
  },
  {
   "cell_type": "code",
   "execution_count": null,
   "id": "c0a046d2",
   "metadata": {},
   "outputs": [],
   "source": []
  }
 ],
 "metadata": {
  "kernelspec": {
   "display_name": "Java",
   "language": "java",
   "name": "java"
  },
  "language_info": {
   "codemirror_mode": "java",
   "file_extension": ".jshell",
   "mimetype": "text/x-java-source",
   "name": "Java",
   "pygments_lexer": "java",
   "version": "16.0.1+9"
  }
 },
 "nbformat": 4,
 "nbformat_minor": 5
}
