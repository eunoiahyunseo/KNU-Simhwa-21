{
 "cells": [
  {
   "cell_type": "code",
   "execution_count": null,
   "id": "1bea25e4",
   "metadata": {},
   "outputs": [],
   "source": [
    "List<Integer> list1 = new ArrayList<>();\n",
    "list1.add(1);\n",
    "list1.get(0);"
   ]
  }
 ],
 "metadata": {
  "kernelspec": {
   "display_name": "Java",
   "language": "java",
   "name": "java"
  },
  "language_info": {
   "codemirror_mode": "java",
   "file_extension": ".jshell",
   "mimetype": "text/x-java-source",
   "name": "Java",
   "pygments_lexer": "java",
   "version": "16.0.1+9"
  }
 },
 "nbformat": 4,
 "nbformat_minor": 5
}
